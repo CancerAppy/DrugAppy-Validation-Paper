{
 "cells": [
  {
   "cell_type": "markdown",
   "id": "c8c9aa21",
   "metadata": {},
   "source": [
    "Workflow validation and model enseble for discovering PARP inhibidors."
   ]
  },
  {
   "cell_type": "markdown",
   "id": "e387b643",
   "metadata": {},
   "source": [
    "### Defs and imports"
   ]
  },
  {
   "cell_type": "code",
   "execution_count": 1,
   "id": "1ef9cc0d",
   "metadata": {},
   "outputs": [],
   "source": [
    "import bin.sdf_scores as sdf\n",
    "\n",
    "import pandas as pd\n",
    "import seaborn as sns\n",
    "import math\n",
    "import matplotlib.pyplot as plt\n",
    "\n",
    "import numpy as np\n",
    "from sklearn.model_selection import train_test_split\n",
    "from sklearn.linear_model import LogisticRegression\n",
    "from sklearn.preprocessing import StandardScaler\n",
    "from sklearn.metrics import roc_auc_score"
   ]
  },
  {
   "cell_type": "markdown",
   "id": "221e1023",
   "metadata": {},
   "source": [
    "# Load validation data"
   ]
  },
  {
   "cell_type": "markdown",
   "id": "23e02a2f",
   "metadata": {},
   "source": [
    "$chembl_table$ is an extract of PARP inhibidors downloaded from https://www.ebi.ac.uk/chembl/ "
   ]
  },
  {
   "cell_type": "code",
   "execution_count": 2,
   "id": "0d5c6b18",
   "metadata": {},
   "outputs": [],
   "source": [
    "chembl_table = pd.read_csv(\"outputs/PARP_sep_2023/chembl.tsv\", sep=\"\\t\") \n",
    "chembl_table = chembl_table[chembl_table[chembl_table.columns[0]].notna()]\n",
    "chembl_table.set_index(chembl_table.columns[0], inplace=True)"
   ]
  },
  {
   "cell_type": "markdown",
   "id": "2b629770",
   "metadata": {},
   "source": [
    "### Load modelling results for the validation data\n",
    "\n",
    "gnina model - https://github.com/dkoes/GNINA-1.0/tree/main https://doi.org/10.1186/s13321-021-00522-2\n",
    "\n",
    "swiss adme - http://www.swissadme.ch/ https://doi.org/10.1038/srep42717\n",
    "\n",
    "crismod - molecular meachanics model from cancerappy, see the paper for details"
   ]
  },
  {
   "cell_type": "code",
   "execution_count": 3,
   "id": "3c845922",
   "metadata": {},
   "outputs": [
    {
     "name": "stderr",
     "output_type": "stream",
     "text": [
      "[15:22:02] Explicit valence for atom # 20 O, 3, is greater than permitted\n",
      "[15:22:02] ERROR: Could not sanitize molecule ending on line 6333\n",
      "[15:22:02] ERROR: Explicit valence for atom # 20 O, 3, is greater than permitted\n",
      "[15:22:02] Explicit valence for atom # 20 O, 3, is greater than permitted\n",
      "[15:22:02] ERROR: Could not sanitize molecule ending on line 6402\n",
      "[15:22:02] ERROR: Explicit valence for atom # 20 O, 3, is greater than permitted\n",
      "[15:22:02] Explicit valence for atom # 20 O, 3, is greater than permitted\n",
      "[15:22:02] ERROR: Could not sanitize molecule ending on line 6471\n",
      "[15:22:02] ERROR: Explicit valence for atom # 20 O, 3, is greater than permitted\n",
      "[15:22:02] Explicit valence for atom # 20 O, 3, is greater than permitted\n",
      "[15:22:02] ERROR: Could not sanitize molecule ending on line 6540\n",
      "[15:22:02] ERROR: Explicit valence for atom # 20 O, 3, is greater than permitted\n",
      "[15:22:02] Explicit valence for atom # 20 O, 3, is greater than permitted\n",
      "[15:22:02] ERROR: Could not sanitize molecule ending on line 6609\n",
      "[15:22:02] ERROR: Explicit valence for atom # 20 O, 3, is greater than permitted\n",
      "[15:22:02] Explicit valence for atom # 20 O, 3, is greater than permitted\n",
      "[15:22:02] ERROR: Could not sanitize molecule ending on line 6678\n",
      "[15:22:02] ERROR: Explicit valence for atom # 20 O, 3, is greater than permitted\n",
      "[15:22:02] Explicit valence for atom # 20 O, 3, is greater than permitted\n",
      "[15:22:02] ERROR: Could not sanitize molecule ending on line 6747\n",
      "[15:22:02] ERROR: Explicit valence for atom # 20 O, 3, is greater than permitted\n",
      "[15:22:02] Explicit valence for atom # 20 O, 3, is greater than permitted\n",
      "[15:22:02] ERROR: Could not sanitize molecule ending on line 6816\n",
      "[15:22:02] ERROR: Explicit valence for atom # 20 O, 3, is greater than permitted\n",
      "[15:22:02] Explicit valence for atom # 20 O, 3, is greater than permitted\n",
      "[15:22:02] ERROR: Could not sanitize molecule ending on line 6885\n",
      "[15:22:02] ERROR: Explicit valence for atom # 20 O, 3, is greater than permitted\n",
      "[15:22:02] Explicit valence for atom # 20 O, 3, is greater than permitted\n",
      "[15:22:02] ERROR: Could not sanitize molecule ending on line 6954\n",
      "[15:22:02] ERROR: Explicit valence for atom # 20 O, 3, is greater than permitted\n"
     ]
    }
   ],
   "source": [
    "gnina_chembl = sdf.get_gnina_scores('outputs/PARP_sep_2023/gnina/val')"
   ]
  },
  {
   "cell_type": "code",
   "execution_count": 4,
   "id": "f7183299",
   "metadata": {},
   "outputs": [],
   "source": [
    "data = pd.read_csv(\"outputs/PARP_sep_2023/crismod/swissadme.csv\", sep=\",\")\n",
    "adme_chembl = data.drop([\"Canonical SMILES\",\"Formula\",\"BBB permeant\",\"Pgp substrate\",\"CYP1A2 inhibitor\",\n",
    "           \"CYP2C19 inhibitor\",\"CYP2C9 inhibitor\",\"CYP2D6 inhibitor\",\"CYP3A4 inhibitor\",\n",
    "           \"ESOL Class\",\"Ali Class\",\"Silicos-IT class\",\"GI absorption\"], axis=1)\n",
    "adme_columns = set(adme_chembl.columns)-set([\"Molecule\"])"
   ]
  },
  {
   "cell_type": "code",
   "execution_count": 5,
   "id": "91b93475",
   "metadata": {},
   "outputs": [],
   "source": [
    "data = pd.read_csv(\"outputs/PARP_sep_2023/crismod/7KK4_chembl_affinity.dat\", sep=\",\")\n",
    "data[\"Pose\"] = 0\n",
    "for key, row in data.iterrows():\n",
    "    combined_name = row.Ligand.split(\"_\") \n",
    "    data.at[key,'Ligand'] = combined_name[0]\n",
    "    data.at[key,'Pose'] = int(combined_name[1])\n",
    "    #if combined_name[0] in chebl_names:\n",
    "    ki = chembl_table.loc[combined_name[0]][\"Standard Value\"]* 10**-9\n",
    "    data.at[key,'val_ki'] = ki\n",
    "    data.at[key,'val_Energy'] = 0.6 * math.log(ki)\n",
    "    #else:\n",
    "    #    data.at[key,'val_Energy'] = 0\n",
    "        \n",
    "crismod_chembl = data"
   ]
  },
  {
   "cell_type": "markdown",
   "id": "16c90647",
   "metadata": {},
   "source": [
    "## merge the results"
   ]
  },
  {
   "cell_type": "code",
   "execution_count": 6,
   "id": "014e5bdc",
   "metadata": {},
   "outputs": [],
   "source": [
    "data = crismod_chembl.drop([\"Protein\",\"ID\",\"Pose\"], axis=1)\n",
    "\n",
    "for key, row in data.iterrows():\n",
    "    gnina_row = gnina_chembl[gnina_chembl.Name == row.Ligand].iloc[0]\n",
    "    \n",
    "    if len(adme_chembl[adme_chembl.Molecule == row.Ligand]) == 0:\n",
    "        print(gnina_row.SMILES, gnina_row.Name)\n",
    "    else:\n",
    "        adme_row = adme_chembl[adme_chembl.Molecule == row.Ligand].iloc[0]\n",
    "\n",
    "        data.at[key,'Energy'] = gnina_row.Energy\n",
    "        data.at[key,'CNNscore'] = gnina_row.CNNscore\n",
    "        data.at[key,'CNNaffinity'] = gnina_row.CNNaffinity\n",
    "        data.at[key,'CNN_VS'] = gnina_row.CNN_VS\n",
    "        data.at[key,'CNNaffinity_variance'] = gnina_row.CNNaffinity_variance\n",
    "        data.at[key,'SMILES'] = gnina_row.SMILES\n",
    "\n",
    "        for column in adme_columns:\n",
    "            data.at[key,column] = adme_row[column]\n",
    "        \n",
    "    \n",
    "chembl_res = data"
   ]
  },
  {
   "cell_type": "markdown",
   "id": "b2f52bf0",
   "metadata": {},
   "source": [
    "### Test which model is the best performer"
   ]
  },
  {
   "cell_type": "code",
   "execution_count": 7,
   "id": "1bb68977",
   "metadata": {},
   "outputs": [
    {
     "name": "stdout",
     "output_type": "stream",
     "text": [
      "MMPBSA -0.005017236945645728\n",
      "MMGBSA_2 0.16986954874937132\n",
      "MMGBSA_5 0.22232329944500873\n",
      "MMGBSA_7 0.042623436902546656\n",
      "MMGBSA_8 0.015464309490273585\n"
     ]
    }
   ],
   "source": [
    "filtered_data = crismod_chembl[crismod_chembl.Pose == 0]\n",
    "\n",
    "x_cols = [\"MMPBSA\",\"MMGBSA_2\",\"MMGBSA_5\",\"MMGBSA_7\",\"MMGBSA_8\"]\n",
    "\n",
    "for x_col in x_cols:\n",
    "    corelation = filtered_data[x_col].corr(filtered_data[\"val_Energy\"])\n",
    "    print(x_col+\" \"+str(corelation))"
   ]
  },
  {
   "cell_type": "markdown",
   "id": "a36f2950",
   "metadata": {},
   "source": [
    "# Model ensemble"
   ]
  },
  {
   "cell_type": "code",
   "execution_count": 8,
   "id": "0a36f03e",
   "metadata": {},
   "outputs": [],
   "source": [
    "X = chembl_res.drop(['val_Energy', 'Ligand','val_ki','SMILES'], axis=1)  # dropping 'Ligand' assuming it's categorical/non-numeric\n",
    "y = chembl_res['val_Energy']"
   ]
  },
  {
   "cell_type": "markdown",
   "id": "809e6e0a",
   "metadata": {},
   "source": [
    "## Set the training target\n",
    "\n",
    "The model is trained to distinguish betwean compounds that have some activity and compounds that perform very well. It is not trained to detect inhibitors as we assume that when the ensemble is used the compounds have already been filtered enough."
   ]
  },
  {
   "cell_type": "code",
   "execution_count": 9,
   "id": "fcf9c429",
   "metadata": {},
   "outputs": [],
   "source": [
    "Ki_threshold = 1.0e-08 # 10 nano\n",
    "chembl_res[\"Strong_inhibitor\"] = chembl_res.val_ki<Ki_threshold"
   ]
  },
  {
   "cell_type": "markdown",
   "id": "2dca11e2",
   "metadata": {},
   "source": [
    "### Test which parameters improove the predictions"
   ]
  },
  {
   "cell_type": "code",
   "execution_count": 10,
   "id": "a909995f",
   "metadata": {},
   "outputs": [],
   "source": [
    "always_drop = ['val_Energy', 'Ligand','val_ki','SMILES','Strong_inhibitor',\"CNNaffinity_variance\",\"MMPBSA\",\"CNNscore\",\"MMGBSA_8\",\"CNN_VS\",\"MMGBSA_2\"]\n",
    "MM_models = [\"Energy\",\"CNNaffinity\",\"MMGBSA_5\",\"MMGBSA_7\"]"
   ]
  },
  {
   "cell_type": "code",
   "execution_count": 11,
   "id": "d6218d6f",
   "metadata": {},
   "outputs": [],
   "source": [
    "res=dict()\n",
    "for j in range(1000): # repeat to handle noise\n",
    "    for i in range(len(MM_models)+1):\n",
    "\n",
    "        drop_list = MM_models.copy()\n",
    "        if i < len(MM_models):\n",
    "            model = \"No\"+MM_models[i]\n",
    "            drop_list = [MM_models[i]]\n",
    "        else:\n",
    "            model = \"Ensemble\"\n",
    "            drop_list = []\n",
    "            \n",
    "        #drop_list = [\"MMPBSA\",\"MMGBSA_2\",\"MMGBSA_8\"]\n",
    "            \n",
    "        X = chembl_res.drop(always_drop, axis=1)  # dropping 'Ligand' assuming it's categorical/non-numeric\n",
    "        X = X.drop(adme_columns, axis=1) \n",
    "        X = X.drop(drop_list, axis=1)\n",
    "\n",
    "        y = chembl_res['Strong_inhibitor']\n",
    "\n",
    "        # Splitting the dataset into the Training set and Test set\n",
    "        X_train, X_test, y_train, y_test = train_test_split(X, y, test_size=0.3)\n",
    "\n",
    "        # Feature Scaling (important for algorithms like logistic regression)\n",
    "        scaler = StandardScaler()\n",
    "        X_train = scaler.fit_transform(X_train)\n",
    "        X_test = scaler.transform(X_test)\n",
    "\n",
    "        # Create and train model\n",
    "        classifier = LogisticRegression()\n",
    "        classifier.fit(X_train, y_train)\n",
    "\n",
    "        # Predicting the Test set results\n",
    "        y_pred = classifier.predict(X_test)\n",
    "\n",
    "        y_probs = classifier.predict_proba(X_test)\n",
    "        y_probs_positive = y_probs[:, 1]\n",
    "\n",
    "        # Calculate AUC score (a single number evaluating the model performance)\n",
    "        roc_auc = roc_auc_score(y_test, y_probs_positive)\n",
    "        \n",
    "        if model in res:\n",
    "            res[model] = res[model] + roc_auc\n",
    "        else:\n",
    "            res[model] = roc_auc\n",
    "        "
   ]
  },
  {
   "cell_type": "code",
   "execution_count": 12,
   "id": "ac51a002",
   "metadata": {},
   "outputs": [
    {
     "data": {
      "text/plain": [
       "{'NoEnergy': 812.5462510839182,\n",
       " 'NoCNNaffinity': 823.6103744386312,\n",
       " 'NoMMGBSA_5': 789.8794879232865,\n",
       " 'NoMMGBSA_7': 763.9093459435585,\n",
       " 'Ensemble': 846.4471367935076}"
      ]
     },
     "execution_count": 12,
     "metadata": {},
     "output_type": "execute_result"
    }
   ],
   "source": [
    "res"
   ]
  },
  {
   "cell_type": "markdown",
   "id": "ffdae4c8",
   "metadata": {},
   "source": [
    "### Do ADME variables improove the model?"
   ]
  },
  {
   "cell_type": "code",
   "execution_count": 13,
   "id": "7900df85",
   "metadata": {},
   "outputs": [],
   "source": [
    "# Try adding one by one the best variables, on top of the MM and gnina variables identified earlier\n",
    "res=dict()\n",
    "adme_columns = set(adme_chembl.columns)-set([\"Molecule\"])\n",
    "always_drop = ['val_Energy', 'Ligand','val_ki','SMILES','Strong_inhibitor',\"CNNaffinity_variance\",\"MMPBSA\",\n",
    "               \"CNNscore\",\"MMGBSA_8\",\"CNN_VS\",\"MMGBSA_2\"]\n",
    "\n",
    "test_list = ['log Kp (cm/s)', '#H-bond donors']\n",
    "adme_columns = list(set(adme_columns)-set(test_list))\n",
    "\n",
    "always_drop = always_drop+adme_columns\n",
    "\n",
    "adme_columns = test_list\n",
    "\n",
    "for j in range(1000):\n",
    "    for i in range(len(adme_columns)+2):\n",
    "\n",
    "        drop_list = adme_columns.copy()\n",
    "        if i < len(adme_columns):\n",
    "            model = adme_columns[i]\n",
    "            del drop_list[i]\n",
    "\n",
    "        elif i == len(adme_columns):\n",
    "            model = \"ADME\"\n",
    "            drop_list = [] \n",
    "        else:\n",
    "            model = \"NO ADME\"\n",
    "\n",
    "            \n",
    "        X = chembl_res.drop(always_drop, axis=1)  # dropping 'Ligand' assuming it's categorical/non-numeric\n",
    "        X = X.drop(drop_list, axis=1)\n",
    "\n",
    "        y = chembl_res['Strong_inhibitor']\n",
    "\n",
    "        # Splitting the dataset into the Training set and Test set\n",
    "        X_train, X_test, y_train, y_test = train_test_split(X, y, test_size=0.3)\n",
    "\n",
    "        # Feature Scaling (important for algorithms like logistic regression)\n",
    "        scaler = StandardScaler()\n",
    "        X_train = scaler.fit_transform(X_train)\n",
    "        X_test = scaler.transform(X_test)\n",
    "\n",
    "        # Create and train model\n",
    "        classifier = LogisticRegression()\n",
    "        classifier.fit(X_train, y_train)\n",
    "\n",
    "        # Predicting the Test set results\n",
    "        y_pred = classifier.predict(X_test)\n",
    "\n",
    "        y_probs = classifier.predict_proba(X_test)\n",
    "        y_probs_positive = y_probs[:, 1]\n",
    "\n",
    "        # Calculate AUC score (a single number evaluating the model performance)\n",
    "        roc_auc = roc_auc_score(y_test, y_probs_positive)\n",
    "        \n",
    "        if model in res:\n",
    "            res[model] = res[model] + roc_auc\n",
    "        else:\n",
    "            res[model] = roc_auc"
   ]
  },
  {
   "cell_type": "code",
   "execution_count": 14,
   "id": "9f9ae181",
   "metadata": {},
   "outputs": [
    {
     "data": {
      "text/plain": [
       "{'log Kp (cm/s)': 910.1400741299178,\n",
       " '#H-bond donors': 851.1640740723398,\n",
       " 'ADME': 929.1683339436137,\n",
       " 'NO ADME': 845.455995260357}"
      ]
     },
     "execution_count": 14,
     "metadata": {},
     "output_type": "execute_result"
    }
   ],
   "source": [
    "res"
   ]
  },
  {
   "cell_type": "markdown",
   "id": "bea2500f",
   "metadata": {},
   "source": [
    "# Load the enamine results"
   ]
  },
  {
   "cell_type": "markdown",
   "id": "1be3aa27",
   "metadata": {},
   "source": [
    "## Load crismod results"
   ]
  },
  {
   "cell_type": "code",
   "execution_count": 15,
   "id": "67c32f29",
   "metadata": {},
   "outputs": [],
   "source": [
    "data = pd.read_csv(\"outputs/PARP_sep_2023/crismod/7KK4_enamine_affinity.dat\", sep=\",\")\n",
    "data[\"Pose\"] = 0\n",
    "for key, row in data.iterrows():\n",
    "    combined_name = row.Ligand.split(\"_\") \n",
    "    data.at[key,'Ligand'] = combined_name[0]\n",
    "    data.at[key,'Pose'] = int(combined_name[1])\n",
    "      \n",
    "crismod_enamine = data"
   ]
  },
  {
   "cell_type": "markdown",
   "id": "7b32c797",
   "metadata": {},
   "source": [
    "## Load gnina results"
   ]
  },
  {
   "cell_type": "code",
   "execution_count": 2,
   "id": "26b0879a",
   "metadata": {
    "scrolled": true
   },
   "outputs": [
    {
     "name": "stdout",
     "output_type": "stream",
     "text": [
      "outputs/PARP_sep_2023/gnina/sminaout/parp1_gnina_0071.sdf\n"
     ]
    }
   ],
   "source": [
    "gnina_enamine = sdf.get_gnina_scores('outputs/PARP_sep_2023/gnina/sminaout')"
   ]
  },
  {
   "cell_type": "markdown",
   "id": "47cc5dee",
   "metadata": {},
   "source": [
    "## Load adme"
   ]
  },
  {
   "cell_type": "code",
   "execution_count": 17,
   "id": "14e173f6",
   "metadata": {},
   "outputs": [],
   "source": [
    "data = pd.read_csv(\"outputs/PARP_sep_2023/crismod/swissadme_enamine.csv\", sep=\",\")"
   ]
  },
  {
   "cell_type": "code",
   "execution_count": 18,
   "id": "3cd89a2f",
   "metadata": {},
   "outputs": [],
   "source": [
    "adme_enamine = data.drop([\"Canonical SMILES\",\"Formula\",\"BBB permeant\",\"Pgp substrate\",\"CYP1A2 inhibitor\",\n",
    "           \"CYP2C19 inhibitor\",\"CYP2C9 inhibitor\",\"CYP2D6 inhibitor\",\"CYP3A4 inhibitor\",\n",
    "           \"ESOL Class\",\"Ali Class\",\"Silicos-IT class\",\"GI absorption\"], axis=1)"
   ]
  },
  {
   "cell_type": "code",
   "execution_count": 19,
   "id": "1981beaf",
   "metadata": {},
   "outputs": [],
   "source": [
    "adme_columns = set(adme_enamine.columns)-set([\"Molecule\"])"
   ]
  },
  {
   "cell_type": "markdown",
   "id": "739afa89",
   "metadata": {},
   "source": [
    "## merge the results"
   ]
  },
  {
   "cell_type": "code",
   "execution_count": 20,
   "id": "f5f6c49d",
   "metadata": {},
   "outputs": [],
   "source": [
    "data = crismod_enamine.drop([\"Protein\",\"ID\"], axis=1)\n",
    "\n",
    "for key, row in data.iterrows():\n",
    "    gnina_rows = gnina_enamine[gnina_enamine.Name == row.Ligand]\n",
    "\n",
    "    if len(gnina_rows) == 0:\n",
    "        print(\"no data for \"+row.Ligand)\n",
    "    else:\n",
    "        gnina_row = gnina_rows.iloc[0]\n",
    "        if len(adme_enamine[adme_enamine.Molecule == row.Ligand]) == 0:\n",
    "            print(gnina_row.SMILES, gnina_row.Name)\n",
    "        else:\n",
    "            adme_row = adme_enamine[adme_enamine.Molecule == row.Ligand].iloc[0]\n",
    "    \n",
    "            data.at[key,'Energy'] = gnina_row.Energy\n",
    "            data.at[key,'CNNscore'] = gnina_row.CNNscore\n",
    "            data.at[key,'CNNaffinity'] = gnina_row.CNNaffinity\n",
    "            data.at[key,'CNN_VS'] = gnina_row.CNN_VS\n",
    "            data.at[key,'CNNaffinity_variance'] = gnina_row.CNNaffinity_variance\n",
    "            data.at[key,'SMILES'] = gnina_row.SMILES\n",
    "    \n",
    "            for column in adme_columns:\n",
    "                data.at[key,column] = adme_row[column]\n",
    "        \n",
    "    \n",
    "enamine_res = data"
   ]
  },
  {
   "cell_type": "markdown",
   "id": "93516936",
   "metadata": {},
   "source": [
    "# Final filtering"
   ]
  },
  {
   "cell_type": "markdown",
   "id": "d57443ee",
   "metadata": {},
   "source": [
    "## Train the model"
   ]
  },
  {
   "cell_type": "code",
   "execution_count": 21,
   "id": "0427dd9e",
   "metadata": {},
   "outputs": [
    {
     "name": "stdout",
     "output_type": "stream",
     "text": [
      "1.0\n"
     ]
    }
   ],
   "source": [
    "adme_columns = set(adme_chembl.columns)-set([\"Molecule\"])\n",
    "always_drop = ['val_Energy', 'Ligand','val_ki','SMILES','Strong_inhibitor',\"CNNaffinity_variance\",\"MMPBSA\",\n",
    "               \"CNNscore\",\"MMGBSA_8\",\"CNN_VS\",\"MMGBSA_2\",]\n",
    "\n",
    "#test_list = ['log Kp (cm/s)', '#H-bond donors']\n",
    "test_list = []\n",
    "adme_columns = list(set(adme_columns)-set(test_list))\n",
    "\n",
    "always_drop = always_drop+adme_columns\n",
    "      \n",
    "X = chembl_res.drop(always_drop, axis=1)  # dropping 'Ligand' assuming it's categorical/non-numeric\n",
    "y = chembl_res['Strong_inhibitor']\n",
    "\n",
    "# Splitting the dataset into the Training set and Test set\n",
    "X_train, X_test, y_train, y_test = train_test_split(X, y, test_size=0.01)\n",
    "\n",
    "# Feature Scaling (important for algorithms like logistic regression)\n",
    "scaler = StandardScaler()\n",
    "X_train = scaler.fit_transform(X_train)\n",
    "X_test = scaler.transform(X_test)\n",
    "\n",
    "# Create and train model\n",
    "classifier = LogisticRegression()\n",
    "classifier.fit(X_train, y_train)\n",
    "\n",
    "# Predicting the Test set results\n",
    "y_pred = classifier.predict(X_test)\n",
    "\n",
    "y_probs = classifier.predict_proba(X_test)\n",
    "y_probs_positive = y_probs[:, 1]\n",
    "\n",
    "# Calculate AUC score (a single number evaluating the model performance)\n",
    "roc_auc = roc_auc_score(y_test, y_probs_positive)\n",
    "        \n",
    "print(roc_auc)"
   ]
  },
  {
   "cell_type": "markdown",
   "id": "9c3e7b48",
   "metadata": {},
   "source": [
    "## Apply the model to the screening results"
   ]
  },
  {
   "cell_type": "code",
   "execution_count": 22,
   "id": "cb391a22",
   "metadata": {},
   "outputs": [],
   "source": [
    "X = enamine_res.drop(always_drop+[\"10nM score short_adme\"], axis=1, errors = 'ignore') \n",
    "X = X.drop(\"Pose\", axis=1)\n",
    "X_prod = scaler.transform(X)\n",
    "\n",
    "# Predicting the Test set results\n",
    "y_pred_prod = classifier.predict(X_prod)\n",
    "\n",
    "y_probs_prod = classifier.predict_proba(X_prod)\n",
    "y_probs_prod_positive = y_probs_prod[:, 1]"
   ]
  },
  {
   "cell_type": "code",
   "execution_count": 23,
   "id": "ee33d354",
   "metadata": {},
   "outputs": [],
   "source": [
    "#enamine_res[\"10nM score short_adme\"] = y_probs_prod_positive\n",
    "enamine_res[\"10nM score no_adme\"] = y_probs_prod_positive"
   ]
  },
  {
   "cell_type": "code",
   "execution_count": 24,
   "id": "fd7eeb71",
   "metadata": {},
   "outputs": [
    {
     "data": {
      "image/png": "[encoded data removed]",
      "text/plain": [
       "<Figure size 640x480 with 1 Axes>"
      ]
     },
     "metadata": {},
     "output_type": "display_data"
    }
   ],
   "source": [
    "sns.histplot(data=enamine_res, x=\"10nM score no_adme\",\n",
    "             bins=100,kde=True, cumulative=False, palette=\"bright\")\n",
    "#plt.savefig(\"histogram.png\", dpi=600)\n",
    "plt.show()"
   ]
  },
  {
   "cell_type": "code",
   "execution_count": 25,
   "id": "20081eaa",
   "metadata": {},
   "outputs": [],
   "source": [
    "column_order = ['Ligand', 'SMILES', 'MMGBSA_5', 'MMGBSA_7', 'Energy', 'CNNaffinity', \n",
    "                #'10nM score short_adme', \n",
    "                'log Kp (cm/s)', '#H-bond donors', '10nM score no_adme',\n",
    "                'MMPBSA', 'MMGBSA_2', 'MMGBSA_8', 'CNNscore', 'CNN_VS',\n",
    "                'CNNaffinity_variance', 'XLOGP3', 'Veber #violations',\n",
    "                'MLOGP', 'Silicos-IT LogSw', 'PAINS #alerts', 'Ali Solubility (mg/ml)',\n",
    "                'Brenk #alerts', 'Silicos-IT Solubility (mg/ml)', '#Heavy atoms',\n",
    "                'Ali Log S', '#Aromatic heavy atoms', 'Synthetic Accessibility',\n",
    "                'Silicos-IT Solubility (mol/l)', '#H-bond acceptors', 'Fraction Csp3',\n",
    "                'Bioavailability Score', 'MW', 'ESOL Solubility (mg/ml)',\n",
    "                'ESOL Solubility (mol/l)', 'Silicos-IT Log P', 'Ali Solubility (mol/l)',\n",
    "                'Egan #violations', 'Muegge #violations', 'TPSA', 'MR',\n",
    "                'Leadlikeness #violations', 'Consensus Log P', 'ESOL Log S',\n",
    "                '#Rotatable bonds', 'iLOGP', 'WLOGP',\n",
    "                'Ghose #violations', 'Lipinski #violations']"
   ]
  },
  {
   "cell_type": "markdown",
   "id": "ed0f1812",
   "metadata": {},
   "source": [
    "## Save the final list"
   ]
  },
  {
   "cell_type": "code",
   "execution_count": 26,
   "id": "308fbd23",
   "metadata": {},
   "outputs": [],
   "source": [
    "final_res = enamine_res[column_order].sort_values(by='10nM score no_adme', ascending=False)\n",
    "final_res.to_csv(\"final_results.csv\", index=False)"
   ]
  }
 ],
 "metadata": {
  "kernelspec": {
   "display_name": "Python 3",
   "language": "python",
   "name": "python3"
  },
  "language_info": {
   "codemirror_mode": {
    "name": "ipython",
    "version": 3
   },
   "file_extension": ".py",
   "mimetype": "text/x-python",
   "name": "python",
   "nbconvert_exporter": "python",
   "pygments_lexer": "ipython3",
   "version": "3.8.12"
  }
 },
 "nbformat": 4,
 "nbformat_minor": 5
}
